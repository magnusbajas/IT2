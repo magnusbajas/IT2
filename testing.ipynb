{
 "cells": [
  {
   "cell_type": "code",
   "execution_count": null,
   "metadata": {},
   "outputs": [],
   "source": [
    "# Oppgave 3.13\n",
    "\n",
    "while True:                                            # Dine kommentarer her\n",
    "    try:                                               # prøver å kjøre koden under\n",
    "        alder = int(input(\"Hvor gammel er du? \"))      # spør om alder\n",
    "        break                                          # avbryter løkken hvis input er gyldig\n",
    "    except:                                            # hvis input er feil\n",
    "        print(\"Ugyldig input. Alder må være et tall.\") # printer feilmelding\n",
    "år = 2024                                              # setter år til å være 2024\n",
    "fødselsår = år - alder                                 # beregner fødselsår ved å ta år - alder\n",
    "print(f\"Du er født i {fødselsår}\")                     # printer fødselsår"
   ]
  },
  {
   "cell_type": "code",
   "execution_count": 3,
   "metadata": {},
   "outputs": [
    {
     "name": "stdout",
     "output_type": "stream",
     "text": [
      "Din genererte e-postadresse er: magnusj@afk.no\n"
     ]
    }
   ],
   "source": [
    "# Oppgave 3.14\n",
    "\n",
    "def generer_email(fornavn, etternavn):\n",
    "    email = f\"{fornavn}{etternavn[0].lower()}@afk.no\"\n",
    "    return email\n",
    "\n",
    "while True:\n",
    "    navn = input(\"Skriv inn ditt fornavn og etternavn: \")\n",
    "    navn_liste = navn.split()\n",
    "    \n",
    "    if len(navn_liste) >= 2:\n",
    "        fornavn = navn_liste[0]\n",
    "        etternavn = navn_liste[-1]\n",
    "        email = generer_email(fornavn, etternavn)\n",
    "        print(f\"Din genererte e-postadresse er: {email}\")\n",
    "        break\n",
    "    else:\n",
    "        print(\"Feil inndata. Du må skrive inn både fornavn og etternavn.\")\n"
   ]
  },
  {
   "cell_type": "code",
   "execution_count": 12,
   "metadata": {},
   "outputs": [],
   "source": [
    "# Oppgave 3. 15\n",
    "\n",
    "def er_skuddår(årstall: int):\n",
    "    return (årstall % 400 == 0) or (årstall % 4 == 0 and årstall % 100 != 0)\n",
    "\n",
    "\n",
    "\n",
    "# Tester:\n",
    "skuddår = [1704, 1708, 1712, 1716, 1720, 1724, 1728, 1732, 1736, 1740, 1744, 1748, 1752, 1756, 1760, 1764, 1768, 1772, 1776, 1780, 1784, 1788, 1792, 1796, 1804, 1808, 1812, 1816, 1820, 1824, 1828, 1832, 1836, 1840, 1844, 1848, 1852, 1856, 1860, 1864, 1868, 1872, 1876, 1880, 1884, 1888, 1892, 1896, 1904, 1908, 1912, 1916, 1920, 1924, 1928, 1932, 1936, 1940, 1944, 1948, 1952, 1956, 1960, 1964, 1968, 1972, 1976, 1980, 1984, 1988, 1992, 1996, 2000, 2004, 2008, 2012, 2016, 2020, 2024, 2028, 2032, 2036, 2040, 2044, 2048, 2052, 2056, 2060, 2064, 2068, 2072, 2076, 2080, 2084, 2088, 2092, 2096, 2104, 2108, 2112, 2116, 2120, 2124, 2128, 2132, 2136, 2140, 2144, 2148, 2152, 2156, 2160, 2164, 2168, 2172, 2176, 2180, 2184, 2188, 2192, 2196]\n",
    "for år in range(1704, 2197):\n",
    "    if år in skuddår:\n",
    "        assert er_skuddår(år) == True\n",
    "    else:\n",
    "        assert er_skuddår(år) == False\n"
   ]
  }
 ],
 "metadata": {
  "kernelspec": {
   "display_name": "Python 3",
   "language": "python",
   "name": "python3"
  },
  "language_info": {
   "codemirror_mode": {
    "name": "ipython",
    "version": 3
   },
   "file_extension": ".py",
   "mimetype": "text/x-python",
   "name": "python",
   "nbconvert_exporter": "python",
   "pygments_lexer": "ipython3",
   "version": "3.12.2"
  }
 },
 "nbformat": 4,
 "nbformat_minor": 2
}
