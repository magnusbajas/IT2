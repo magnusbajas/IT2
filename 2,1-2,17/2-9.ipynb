{
 "cells": [
  {
   "cell_type": "code",
   "execution_count": 1,
   "metadata": {},
   "outputs": [
    {
     "name": "stdout",
     "output_type": "stream",
     "text": [
      "{'navn': 'Luís Figo', 'år': [2000], 'nasjonalitet': 'Portugal', 'klubber': ['Real Madrid']}\n"
     ]
    }
   ],
   "source": [
    "# Kopier listen med vinnere av gullballen inn i en python-fil og print ordboken til den første spilleren.\n",
    "\n",
    "gullballen = [\n",
    "  {\n",
    "    \"navn\": \"Luís Figo\",\n",
    "    \"år\": [2000],\n",
    "    \"nasjonalitet\": \"Portugal\",\n",
    "    \"klubber\": [\"Real Madrid\"]\n",
    "  },\n",
    "  {\n",
    "    \"navn\": \"Michael Owen\",\n",
    "    \"år\": [2001],\n",
    "    \"nasjonalitet\": \"England\",\n",
    "    \"klubber\": [\"Liverpool\"]\n",
    "  },\n",
    "  {\n",
    "    \"navn\": \"Ronaldo\",\n",
    "    \"år\": [2002],\n",
    "    \"nasjonalitet\": \"Brasil\",\n",
    "    \"klubber\": [\"Real Madrid\"]\n",
    "  },\n",
    "  {\n",
    "    \"navn\": \"Pavel Nedvěd\",\n",
    "    \"år\": [2003],\n",
    "    \"nasjonalitet\": \"Tsjekkia\",\n",
    "    \"klubber\": [\"Juventus\"]\n",
    "  },\n",
    "  {\n",
    "    \"navn\": \"Andriy Shevchenko\",\n",
    "    \"år\": [2004],\n",
    "    \"nasjonalitet\": \"Ukraina\",\n",
    "    \"klubber\": [\"Milan\"]\n",
    "  },\n",
    "  {\n",
    "    \"navn\": \"Ronaldinho\",\n",
    "    \"år\": [2005],\n",
    "    \"nasjonalitet\": \"Brasil\",\n",
    "    \"klubber\": [\"Barcelona\"]\n",
    "  },\n",
    "  {\n",
    "    \"navn\": \"Fabio Cannavaro\",\n",
    "    \"år\": [2006],\n",
    "    \"nasjonalitet\": \"Italia\",\n",
    "    \"klubber\": [\"Real Madrid\"]\n",
    "  },\n",
    "  {\n",
    "    \"navn\": \"Kaká\",\n",
    "    \"år\": [2007],\n",
    "    \"nasjonalitet\": \"Brasil\",\n",
    "    \"klubber\": [\"Milan\"]\n",
    "  },\n",
    "  {\n",
    "    \"navn\": \"Cristiano Ronaldo\",\n",
    "    \"år\": [2008, 2013, 2014, 2016, 2017],\n",
    "    \"nasjonalitet\": \"Portugal\",\n",
    "    \"klubber\": [\"Manchester United\", \"Real Madrid\"]\n",
    "  },\n",
    "  {\n",
    "    \"navn\": \"Lionel Messi\",\n",
    "    \"år\": [2009, 2010, 2011, 2012, 2015, 2019, 2021, 2023],\n",
    "    \"nasjonalitet\": \"Argentina\",\n",
    "    \"klubber\": [\"Barcelona\", \"Paris Saint-Germain F.C.\", \"Inter Miami\"]\n",
    "  },\n",
    "  {\n",
    "    \"navn\": \"Luka Modric\",\n",
    "    \"år\": [2018],\n",
    "    \"nasjonalitet\": \"Kroatia\",\n",
    "    \"klubber\": [\"Real Madrid\"]\n",
    "  },\n",
    "  {\n",
    "    \"navn\": \"Karim Benzema\",\n",
    "    \"år\": [2022],\n",
    "    \"nasjonalitet\": \"Frankrike\",\n",
    "    \"klubber\": [\"Real Madrid\"]\n",
    "  }\n",
    "]\n",
    "\n",
    "\n",
    "print(gullballen[0])"
   ]
  },
  {
   "cell_type": "code",
   "execution_count": 3,
   "metadata": {},
   "outputs": [
    {
     "name": "stdout",
     "output_type": "stream",
     "text": [
      " Navn: Luís Figo, Land: Portugal\n",
      " Navn: Michael Owen, Land: England\n",
      " Navn: Ronaldo, Land: Brasil\n",
      " Navn: Pavel Nedvěd, Land: Tsjekkia\n",
      " Navn: Andriy Shevchenko, Land: Ukraina\n",
      " Navn: Ronaldinho, Land: Brasil\n",
      " Navn: Fabio Cannavaro, Land: Italia\n",
      " Navn: Kaká, Land: Brasil\n",
      " Navn: Cristiano Ronaldo, Land: Portugal\n",
      " Navn: Lionel Messi, Land: Argentina\n",
      " Navn: Luka Modric, Land: Kroatia\n",
      " Navn: Karim Benzema, Land: Frankrike\n"
     ]
    }
   ],
   "source": [
    "# Lag en for-løkke som printer navn og nasjonalitet på hver spiller.\n",
    "\n",
    "for spiller in gullballen:\n",
    "    print(f\" Navn: {spiller['navn']}, Land: {spiller['nasjonalitet']}\")\n"
   ]
  },
  {
   "cell_type": "code",
   "execution_count": 6,
   "metadata": {},
   "outputs": [
    {
     "name": "stdout",
     "output_type": "stream",
     "text": [
      " Navn: Luís Figo, Land: Portugal, 1 gullballer\n",
      " Navn: Michael Owen, Land: England, 1 gullballer\n",
      " Navn: Ronaldo, Land: Brasil, 1 gullballer\n",
      " Navn: Pavel Nedvěd, Land: Tsjekkia, 1 gullballer\n",
      " Navn: Andriy Shevchenko, Land: Ukraina, 1 gullballer\n",
      " Navn: Ronaldinho, Land: Brasil, 1 gullballer\n",
      " Navn: Fabio Cannavaro, Land: Italia, 1 gullballer\n",
      " Navn: Kaká, Land: Brasil, 1 gullballer\n",
      " Navn: Cristiano Ronaldo, Land: Portugal, 5 gullballer\n",
      " Navn: Lionel Messi, Land: Argentina, 8 gullballer\n",
      " Navn: Luka Modric, Land: Kroatia, 1 gullballer\n",
      " Navn: Karim Benzema, Land: Frankrike, 1 gullballer\n"
     ]
    }
   ],
   "source": [
    "# Utvid koden slik at for-løkken også printer antall gullballer spillerne har vunnet.\n",
    "\n",
    "for spiller in gullballen:\n",
    "    antall = len(spiller[\"år\"])\n",
    "    print(f\" Navn: {spiller['navn']}, Land: {spiller['nasjonalitet']}, {antall} gullballer\")"
   ]
  }
 ],
 "metadata": {
  "kernelspec": {
   "display_name": "Python 3",
   "language": "python",
   "name": "python3"
  },
  "language_info": {
   "codemirror_mode": {
    "name": "ipython",
    "version": 3
   },
   "file_extension": ".py",
   "mimetype": "text/x-python",
   "name": "python",
   "nbconvert_exporter": "python",
   "pygments_lexer": "ipython3",
   "version": "3.12.2"
  }
 },
 "nbformat": 4,
 "nbformat_minor": 2
}
