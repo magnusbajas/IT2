{
 "cells": [
  {
   "cell_type": "code",
   "execution_count": null,
   "metadata": {},
   "outputs": [],
   "source": [
    "# Oppgave 2\n",
    "\n",
    "'''\n",
    "\n",
    "FUNCTION byttPlass(liste, i, j)\n",
    "  SET midlertidig TO a[i]\n",
    "  SET a[i] TO a[j]\n",
    "  set a[j] TO midlertidig \n",
    "ENDFUNCTION\n",
    "SET bytta TO TRUE\n",
    "WHILE bytta\n",
    "  SET bytta TO FALSE\n",
    "  SET i TO 0\n",
    "  FOR hver i LESSER THAN n - 1\n",
    "    IF a[i] GREATER THAN a[i+1]    \n",
    "      CALL byttPlass(a, i, i + 1)\n",
    "      SET bytta TO TRUE\n",
    "    ENDIF\n",
    "  ENDFOR\n",
    "ENDWHILE\n",
    "\n",
    "'''\n",
    "\n"
   ]
  }
 ],
 "metadata": {
  "kernelspec": {
   "display_name": "Python 3",
   "language": "python",
   "name": "python3"
  },
  "language_info": {
   "codemirror_mode": {
    "name": "ipython",
    "version": 3
   },
   "file_extension": ".py",
   "mimetype": "text/x-python",
   "name": "python",
   "nbconvert_exporter": "python",
   "pygments_lexer": "ipython3",
   "version": "3.12.2"
  }
 },
 "nbformat": 4,
 "nbformat_minor": 2
}
