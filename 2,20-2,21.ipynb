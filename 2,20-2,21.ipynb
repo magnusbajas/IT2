{
 "cells": [
  {
   "cell_type": "code",
   "execution_count": 1,
   "metadata": {},
   "outputs": [],
   "source": [
    "# Twitter \n",
    "import json\n",
    "with open(\"twitter.json\", encoding=\"utf-8\") as fil:\n",
    "    brukere = json.load(fil)\n"
   ]
  },
  {
   "cell_type": "code",
   "execution_count": 2,
   "metadata": {},
   "outputs": [
    {
     "name": "stdout",
     "output_type": "stream",
     "text": [
      "1. elonmusk - 180483638 følgere\n",
      "2. BarackObama - 131876712 følgere\n",
      "3. Cristiano - 111007811 følgere\n",
      "4. justinbieber - 110939914 følgere\n",
      "5. rihanna - 107958168 følgere\n",
      "6. katyperry - 106547420 følgere\n",
      "7. narendramodi - 97228794 følgere\n",
      "8. taylorswift13 - 95267900 følgere\n",
      "9. realDonaldTrump - 87352378 følgere\n",
      "10. ArianaGrande - 85268269 følgere\n"
     ]
    }
   ],
   "source": [
    "# Lag et program som finner og presenterer de ti brukerne i datasettet som har flest Twitter-følgere.\n",
    "brukere_sortert = sorted(brukere, key=lambda bruker: bruker[\"followers\"], reverse=True)\n",
    "\n",
    "# finner top 10 'followers'\n",
    "for i, bruker in enumerate(brukere_sortert[:10]):\n",
    "    print(f\"{i + 1}. {bruker['username']} - {bruker['followers']} følgere\")"
   ]
  },
  {
   "cell_type": "code",
   "execution_count": 4,
   "metadata": {},
   "outputs": [
    {
     "name": "stdout",
     "output_type": "stream",
     "text": [
      "1. elonmusk - 180483638 følgere Tweets: 42318\n",
      "2. BarackObama - 131876712 følgere Tweets: 17016\n",
      "3. Cristiano - 111007811 følgere Tweets: 4061\n",
      "4. justinbieber - 110939914 følgere Tweets: 31176\n",
      "5. rihanna - 107958168 følgere Tweets: 10718\n",
      "6. katyperry - 106547420 følgere Tweets: 11990\n",
      "7. narendramodi - 97228794 følgere Tweets: 41209\n",
      "8. taylorswift13 - 95267900 følgere Tweets: 828\n",
      "9. realDonaldTrump - 87352378 følgere Tweets: 59120\n",
      "10. ArianaGrande - 85268269 følgere Tweets: 47154\n"
     ]
    }
   ],
   "source": [
    "# Utvid programmet slik at det regner ut og presenterer antall tweets og antall følgere per bruker for disse ti brukerne.\n",
    "\n",
    "# printer antall tweets på de med top 10 mest følgere\n",
    "for i, bruker in enumerate(brukere_sortert[:10]):\n",
    "    print(f\"{i + 1}. {bruker['username']} - {bruker['followers']} følgere Tweets: {bruker['tweets']}\")"
   ]
  },
  {
   "cell_type": "code",
   "execution_count": 6,
   "metadata": {},
   "outputs": [
    {
     "name": "stdout",
     "output_type": "stream",
     "text": [
      "1. elonmusk - 180483638 følgere. Tweets: 42318 følger-ratio er 314431.425087108\n",
      "2. BarackObama - 131876712 følgere. Tweets: 17016 følger-ratio er 242.85792788479245\n",
      "3. Cristiano - 111007811 følgere. Tweets: 4061 følger-ratio er 1608808.8550724639\n",
      "4. justinbieber - 110939914 følgere. Tweets: 31176 følger-ratio er 404.6967106967107\n",
      "5. rihanna - 107958168 følgere. Tweets: 10718 følger-ratio er 111411.93808049535\n",
      "6. katyperry - 106547420 følgere. Tweets: 11990 følger-ratio er 442105.47717842326\n",
      "7. narendramodi - 97228794 følgere. Tweets: 41209 følger-ratio er 36511.000375516334\n",
      "8. taylorswift13 - 95267900 følgere. Tweets: 828 følger-ratio er inf\n",
      "9. realDonaldTrump - 87352378 følgere. Tweets: 59120 følger-ratio er 1712791.7254901961\n",
      "10. ArianaGrande - 85268269 følgere. Tweets: 47154 følger-ratio er 1536.5313187011209\n"
     ]
    }
   ],
   "source": [
    "# Utvid programmet slik at det også viser brukerenes følgere/følger-ratio, altså antall som følger kontoen delt på antall som kontoen følger.\n",
    "\n",
    "for i, bruker in enumerate(brukere_sortert[:10]):\n",
    "    folgere = bruker['followers']\n",
    "    folger = bruker['following']\n",
    "    ratio = folgere / folger if folger != 0 else float('inf')\n",
    "    print(f\"{i + 1}. {bruker['username']} - {bruker['followers']} følgere. Tweets: {bruker['tweets']} følger-ratio er {ratio}\")"
   ]
  },
  {
   "cell_type": "code",
   "execution_count": 9,
   "metadata": {},
   "outputs": [
    {
     "name": "stdout",
     "output_type": "stream",
     "text": [
      "De ti landene med flest YouTube-kanaler er:\n",
      "1. United States: 313 kanaler\n",
      "2. India: 168 kanaler\n",
      "3. nan: 122 kanaler\n",
      "4. Brazil: 62 kanaler\n",
      "5. United Kingdom: 43 kanaler\n",
      "6. Mexico: 33 kanaler\n",
      "7. Indonesia: 28 kanaler\n",
      "8. Spain: 22 kanaler\n",
      "9. Thailand: 18 kanaler\n",
      "10. South Korea: 17 kanaler\n"
     ]
    }
   ],
   "source": [
    "# Youtube \n",
    "\n",
    "import json\n",
    "with open(\"Global YouTube Statistics.json\", encoding=\"utf-8\") as fil:\n",
    "    kanaler = json.load(fil)\n",
    "\n",
    "# Lag et program som finner og presenterer de ti landene i datasettet som har flest YouTube-kanaler.\n",
    "\n",
    "land_antall = {}\n",
    "\n",
    "# henter hvor mange kanaler som tilhører et visst land\n",
    "for kanal in kanaler:\n",
    "    land = kanal[\"Country\"]\n",
    "    if land not in land_antall:\n",
    "        land_antall[land] = 1\n",
    "    else: \n",
    "        land_antall[land] += 1\n",
    "\n",
    "land_liste = land_antall.items()\n",
    "land_sortert = sorted(land_liste, key=lambda x: x[1], reverse=True)\n",
    "\n",
    "print(\"De ti landene med flest YouTube-kanaler er:\")\n",
    "for i, (land, antall) in enumerate(land_sortert[:10]):\n",
    "    print(f\"{i + 1}. {land}: {antall} kanaler\")\n"
   ]
  },
  {
   "cell_type": "code",
   "execution_count": 12,
   "metadata": {},
   "outputs": [
    {
     "name": "stdout",
     "output_type": "stream",
     "text": [
      "De ti landene med flest YouTube-kanaler er:\n",
      "1. United States: 313 kanaler - Gjennomsnittlig antall abonnenter: 23416932.91, Gjennomsnittlig antall videovisninger: 11790069702.74\n",
      "2. India: 168 kanaler - Gjennomsnittlig antall abonnenter: 25658333.33, Gjennomsnittlig antall videovisninger: 13577668900.02\n",
      "3. nan: 122 kanaler - Gjennomsnittlig antall abonnenter: 23952459.02, Gjennomsnittlig antall videovisninger: 9714363614.37\n",
      "4. Brazil: 62 kanaler - Gjennomsnittlig antall abonnenter: 19706451.61, Gjennomsnittlig antall videovisninger: 7761435068.82\n",
      "5. United Kingdom: 43 kanaler - Gjennomsnittlig antall abonnenter: 21334883.72, Gjennomsnittlig antall videovisninger: 10013175153.67\n",
      "6. Mexico: 33 kanaler - Gjennomsnittlig antall abonnenter: 18996969.70, Gjennomsnittlig antall videovisninger: 6006664609.79\n",
      "7. Indonesia: 28 kanaler - Gjennomsnittlig antall abonnenter: 19075000.00, Gjennomsnittlig antall videovisninger: 5393238180.54\n",
      "8. Spain: 22 kanaler - Gjennomsnittlig antall abonnenter: 17504545.45, Gjennomsnittlig antall videovisninger: 6023669745.41\n",
      "9. Thailand: 18 kanaler - Gjennomsnittlig antall abonnenter: 21472222.22, Gjennomsnittlig antall videovisninger: 14684331930.06\n",
      "10. South Korea: 17 kanaler - Gjennomsnittlig antall abonnenter: 28335294.12, Gjennomsnittlig antall videovisninger: 13270099142.12\n"
     ]
    }
   ],
   "source": [
    "# Utvid programmet til å regne ut og presentere gjennomsnittlig antall abonnenter og videovisninger per kanal \n",
    "# for hvert av disse landene.\n",
    "\n",
    "land_antall = {}\n",
    "land_abonnenter = {}\n",
    "land_videovisninger = {}\n",
    " \n",
    "# Gå gjennom hver kanal og tell antall kanaler per land\n",
    "for kanal in kanaler:\n",
    "    land = kanal[\"Country\"]\n",
    "    if land not in land_antall:\n",
    "        land_antall[land] = 1\n",
    "        land_abonnenter[land] = kanal[\"subscribers\"]\n",
    "        land_videovisninger[land] = kanal[\"video views\"]\n",
    "    else:\n",
    "        land_antall[land] += 1\n",
    "        land_abonnenter[land] += kanal[\"subscribers\"]\n",
    "        land_videovisninger[land] += kanal[\"video views\"]\n",
    " \n",
    "# Beregn gjennomsnittlig antall abonnenter og videovisninger per kanal for hvert land\n",
    "for land in land_antall:\n",
    "    land_abonnenter[land] /= land_antall[land]\n",
    "    land_videovisninger[land] /= land_antall[land]\n",
    " \n",
    "# Presenter de ti landene med flest YouTube-kanaler og deres gjennomsnittlige antall abonnenter og videovisninger per kanal\n",
    "print(\"De ti landene med flest YouTube-kanaler er:\")\n",
    "for i, (land, antall) in enumerate(sorted(land_antall.items(), key=lambda x: x[1], reverse=True)[:10], 1):\n",
    "    gjennomsnittlig_abonnenter = land_abonnenter[land]\n",
    "    gjennomsnittlig_videovisninger = land_videovisninger[land]\n",
    "    print(f\"{i}. {land}: {antall} kanaler - Gjennomsnittlig antall abonnenter: {gjennomsnittlig_abonnenter:.2f}, Gjennomsnittlig antall videovisninger: {gjennomsnittlig_videovisninger:.2f}\")\n"
   ]
  }
 ],
 "metadata": {
  "kernelspec": {
   "display_name": "Python 3",
   "language": "python",
   "name": "python3"
  },
  "language_info": {
   "codemirror_mode": {
    "name": "ipython",
    "version": 3
   },
   "file_extension": ".py",
   "mimetype": "text/x-python",
   "name": "python",
   "nbconvert_exporter": "python",
   "pygments_lexer": "ipython3",
   "version": "3.12.2"
  }
 },
 "nbformat": 4,
 "nbformat_minor": 2
}
